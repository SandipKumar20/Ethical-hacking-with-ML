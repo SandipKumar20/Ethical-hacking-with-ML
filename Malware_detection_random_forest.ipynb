{
 "cells": [
  {
   "cell_type": "code",
   "execution_count": 2,
   "id": "51d0e547",
   "metadata": {},
   "outputs": [],
   "source": [
    "import numpy as np\n",
    "import pandas as pd\n",
    "from sklearn import *\n",
    "from sklearn.metrics import accuracy_score\n",
    "from sklearn.model_selection import train_test_split\n",
    "from sklearn.ensemble import RandomForestClassifier"
   ]
  },
  {
   "cell_type": "code",
   "execution_count": 4,
   "id": "c96abe14",
   "metadata": {},
   "outputs": [],
   "source": [
    "data = pd.read_csv(\"MalwareArtifacts.csv\", delimiter = ',')"
   ]
  },
  {
   "cell_type": "code",
   "execution_count": 5,
   "id": "a8662d44",
   "metadata": {},
   "outputs": [
    {
     "data": {
      "text/html": [
       "<div>\n",
       "<style scoped>\n",
       "    .dataframe tbody tr th:only-of-type {\n",
       "        vertical-align: middle;\n",
       "    }\n",
       "\n",
       "    .dataframe tbody tr th {\n",
       "        vertical-align: top;\n",
       "    }\n",
       "\n",
       "    .dataframe thead th {\n",
       "        text-align: right;\n",
       "    }\n",
       "</style>\n",
       "<table border=\"1\" class=\"dataframe\">\n",
       "  <thead>\n",
       "    <tr style=\"text-align: right;\">\n",
       "      <th></th>\n",
       "      <th>AddressOfEntryPoint</th>\n",
       "      <th>MajorLinkerVersion</th>\n",
       "      <th>MajorImageVersion</th>\n",
       "      <th>MajorOperatingSystemVersion</th>\n",
       "      <th>DllCharacteristics</th>\n",
       "      <th>SizeOfStackReserve</th>\n",
       "      <th>NumberOfSections</th>\n",
       "      <th>ResourceSize</th>\n",
       "      <th>legitimate</th>\n",
       "    </tr>\n",
       "  </thead>\n",
       "  <tbody>\n",
       "    <tr>\n",
       "      <th>0</th>\n",
       "      <td>10407</td>\n",
       "      <td>9</td>\n",
       "      <td>6</td>\n",
       "      <td>6</td>\n",
       "      <td>33088</td>\n",
       "      <td>262144</td>\n",
       "      <td>4</td>\n",
       "      <td>952</td>\n",
       "      <td>1</td>\n",
       "    </tr>\n",
       "    <tr>\n",
       "      <th>1</th>\n",
       "      <td>5354</td>\n",
       "      <td>9</td>\n",
       "      <td>6</td>\n",
       "      <td>6</td>\n",
       "      <td>33088</td>\n",
       "      <td>262144</td>\n",
       "      <td>4</td>\n",
       "      <td>952</td>\n",
       "      <td>1</td>\n",
       "    </tr>\n",
       "    <tr>\n",
       "      <th>2</th>\n",
       "      <td>58807</td>\n",
       "      <td>9</td>\n",
       "      <td>6</td>\n",
       "      <td>6</td>\n",
       "      <td>33088</td>\n",
       "      <td>262144</td>\n",
       "      <td>4</td>\n",
       "      <td>136490</td>\n",
       "      <td>1</td>\n",
       "    </tr>\n",
       "    <tr>\n",
       "      <th>3</th>\n",
       "      <td>25166</td>\n",
       "      <td>9</td>\n",
       "      <td>6</td>\n",
       "      <td>6</td>\n",
       "      <td>33088</td>\n",
       "      <td>262144</td>\n",
       "      <td>4</td>\n",
       "      <td>1940</td>\n",
       "      <td>1</td>\n",
       "    </tr>\n",
       "    <tr>\n",
       "      <th>4</th>\n",
       "      <td>70387</td>\n",
       "      <td>9</td>\n",
       "      <td>6</td>\n",
       "      <td>6</td>\n",
       "      <td>33088</td>\n",
       "      <td>262144</td>\n",
       "      <td>4</td>\n",
       "      <td>83098</td>\n",
       "      <td>1</td>\n",
       "    </tr>\n",
       "    <tr>\n",
       "      <th>...</th>\n",
       "      <td>...</td>\n",
       "      <td>...</td>\n",
       "      <td>...</td>\n",
       "      <td>...</td>\n",
       "      <td>...</td>\n",
       "      <td>...</td>\n",
       "      <td>...</td>\n",
       "      <td>...</td>\n",
       "      <td>...</td>\n",
       "    </tr>\n",
       "    <tr>\n",
       "      <th>137439</th>\n",
       "      <td>123291</td>\n",
       "      <td>11</td>\n",
       "      <td>0</td>\n",
       "      <td>5</td>\n",
       "      <td>33088</td>\n",
       "      <td>1048576</td>\n",
       "      <td>5</td>\n",
       "      <td>81654</td>\n",
       "      <td>0</td>\n",
       "    </tr>\n",
       "    <tr>\n",
       "      <th>137440</th>\n",
       "      <td>40000</td>\n",
       "      <td>2</td>\n",
       "      <td>6</td>\n",
       "      <td>1</td>\n",
       "      <td>32768</td>\n",
       "      <td>1048576</td>\n",
       "      <td>8</td>\n",
       "      <td>67624</td>\n",
       "      <td>0</td>\n",
       "    </tr>\n",
       "    <tr>\n",
       "      <th>137441</th>\n",
       "      <td>59610</td>\n",
       "      <td>10</td>\n",
       "      <td>0</td>\n",
       "      <td>5</td>\n",
       "      <td>33088</td>\n",
       "      <td>1048576</td>\n",
       "      <td>5</td>\n",
       "      <td>22648</td>\n",
       "      <td>0</td>\n",
       "    </tr>\n",
       "    <tr>\n",
       "      <th>137442</th>\n",
       "      <td>51216</td>\n",
       "      <td>2</td>\n",
       "      <td>0</td>\n",
       "      <td>1</td>\n",
       "      <td>0</td>\n",
       "      <td>1048576</td>\n",
       "      <td>8</td>\n",
       "      <td>2216</td>\n",
       "      <td>0</td>\n",
       "    </tr>\n",
       "    <tr>\n",
       "      <th>137443</th>\n",
       "      <td>22731</td>\n",
       "      <td>11</td>\n",
       "      <td>0</td>\n",
       "      <td>5</td>\n",
       "      <td>33088</td>\n",
       "      <td>1048576</td>\n",
       "      <td>5</td>\n",
       "      <td>318464</td>\n",
       "      <td>0</td>\n",
       "    </tr>\n",
       "  </tbody>\n",
       "</table>\n",
       "<p>137444 rows × 9 columns</p>\n",
       "</div>"
      ],
      "text/plain": [
       "        AddressOfEntryPoint  MajorLinkerVersion  MajorImageVersion  \\\n",
       "0                     10407                   9                  6   \n",
       "1                      5354                   9                  6   \n",
       "2                     58807                   9                  6   \n",
       "3                     25166                   9                  6   \n",
       "4                     70387                   9                  6   \n",
       "...                     ...                 ...                ...   \n",
       "137439               123291                  11                  0   \n",
       "137440                40000                   2                  6   \n",
       "137441                59610                  10                  0   \n",
       "137442                51216                   2                  0   \n",
       "137443                22731                  11                  0   \n",
       "\n",
       "        MajorOperatingSystemVersion  DllCharacteristics  SizeOfStackReserve  \\\n",
       "0                                 6               33088              262144   \n",
       "1                                 6               33088              262144   \n",
       "2                                 6               33088              262144   \n",
       "3                                 6               33088              262144   \n",
       "4                                 6               33088              262144   \n",
       "...                             ...                 ...                 ...   \n",
       "137439                            5               33088             1048576   \n",
       "137440                            1               32768             1048576   \n",
       "137441                            5               33088             1048576   \n",
       "137442                            1                   0             1048576   \n",
       "137443                            5               33088             1048576   \n",
       "\n",
       "        NumberOfSections  ResourceSize  legitimate  \n",
       "0                      4           952           1  \n",
       "1                      4           952           1  \n",
       "2                      4        136490           1  \n",
       "3                      4          1940           1  \n",
       "4                      4         83098           1  \n",
       "...                  ...           ...         ...  \n",
       "137439                 5         81654           0  \n",
       "137440                 8         67624           0  \n",
       "137441                 5         22648           0  \n",
       "137442                 8          2216           0  \n",
       "137443                 5        318464           0  \n",
       "\n",
       "[137444 rows x 9 columns]"
      ]
     },
     "execution_count": 5,
     "metadata": {},
     "output_type": "execute_result"
    }
   ],
   "source": [
    "data"
   ]
  },
  {
   "cell_type": "code",
   "execution_count": 7,
   "id": "009abb3e",
   "metadata": {},
   "outputs": [
    {
     "data": {
      "text/html": [
       "<div>\n",
       "<style scoped>\n",
       "    .dataframe tbody tr th:only-of-type {\n",
       "        vertical-align: middle;\n",
       "    }\n",
       "\n",
       "    .dataframe tbody tr th {\n",
       "        vertical-align: top;\n",
       "    }\n",
       "\n",
       "    .dataframe thead th {\n",
       "        text-align: right;\n",
       "    }\n",
       "</style>\n",
       "<table border=\"1\" class=\"dataframe\">\n",
       "  <thead>\n",
       "    <tr style=\"text-align: right;\">\n",
       "      <th></th>\n",
       "      <th>AddressOfEntryPoint</th>\n",
       "      <th>MajorLinkerVersion</th>\n",
       "      <th>MajorImageVersion</th>\n",
       "      <th>MajorOperatingSystemVersion</th>\n",
       "      <th>DllCharacteristics</th>\n",
       "      <th>SizeOfStackReserve</th>\n",
       "      <th>NumberOfSections</th>\n",
       "      <th>ResourceSize</th>\n",
       "      <th>legitimate</th>\n",
       "    </tr>\n",
       "  </thead>\n",
       "  <tbody>\n",
       "    <tr>\n",
       "      <th>count</th>\n",
       "      <td>1.374440e+05</td>\n",
       "      <td>137444.000000</td>\n",
       "      <td>137444.000000</td>\n",
       "      <td>137444.000000</td>\n",
       "      <td>137444.000000</td>\n",
       "      <td>1.374440e+05</td>\n",
       "      <td>137444.000000</td>\n",
       "      <td>1.374440e+05</td>\n",
       "      <td>137444.000000</td>\n",
       "    </tr>\n",
       "    <tr>\n",
       "      <th>mean</th>\n",
       "      <td>1.722186e+05</td>\n",
       "      <td>8.620784</td>\n",
       "      <td>68.731876</td>\n",
       "      <td>5.098738</td>\n",
       "      <td>22301.043436</td>\n",
       "      <td>9.306841e+05</td>\n",
       "      <td>4.997119</td>\n",
       "      <td>2.474766e+05</td>\n",
       "      <td>0.297707</td>\n",
       "    </tr>\n",
       "    <tr>\n",
       "      <th>std</th>\n",
       "      <td>3.438014e+06</td>\n",
       "      <td>4.095635</td>\n",
       "      <td>1185.709873</td>\n",
       "      <td>99.437584</td>\n",
       "      <td>15444.753219</td>\n",
       "      <td>5.553175e+05</td>\n",
       "      <td>1.917237</td>\n",
       "      <td>2.129516e+07</td>\n",
       "      <td>0.457252</td>\n",
       "    </tr>\n",
       "    <tr>\n",
       "      <th>min</th>\n",
       "      <td>0.000000e+00</td>\n",
       "      <td>0.000000</td>\n",
       "      <td>0.000000</td>\n",
       "      <td>0.000000</td>\n",
       "      <td>0.000000</td>\n",
       "      <td>0.000000e+00</td>\n",
       "      <td>1.000000</td>\n",
       "      <td>0.000000e+00</td>\n",
       "      <td>0.000000</td>\n",
       "    </tr>\n",
       "    <tr>\n",
       "      <th>25%</th>\n",
       "      <td>1.272100e+04</td>\n",
       "      <td>8.000000</td>\n",
       "      <td>0.000000</td>\n",
       "      <td>4.000000</td>\n",
       "      <td>320.000000</td>\n",
       "      <td>1.048576e+06</td>\n",
       "      <td>4.000000</td>\n",
       "      <td>2.216000e+03</td>\n",
       "      <td>0.000000</td>\n",
       "    </tr>\n",
       "    <tr>\n",
       "      <th>50%</th>\n",
       "      <td>5.300800e+04</td>\n",
       "      <td>9.000000</td>\n",
       "      <td>0.000000</td>\n",
       "      <td>5.000000</td>\n",
       "      <td>33088.000000</td>\n",
       "      <td>1.048576e+06</td>\n",
       "      <td>5.000000</td>\n",
       "      <td>9.640000e+03</td>\n",
       "      <td>0.000000</td>\n",
       "    </tr>\n",
       "    <tr>\n",
       "      <th>75%</th>\n",
       "      <td>6.157800e+04</td>\n",
       "      <td>10.000000</td>\n",
       "      <td>6.000000</td>\n",
       "      <td>5.000000</td>\n",
       "      <td>33088.000000</td>\n",
       "      <td>1.048576e+06</td>\n",
       "      <td>5.000000</td>\n",
       "      <td>2.376250e+04</td>\n",
       "      <td>1.000000</td>\n",
       "    </tr>\n",
       "    <tr>\n",
       "      <th>max</th>\n",
       "      <td>1.074484e+09</td>\n",
       "      <td>255.000000</td>\n",
       "      <td>28619.000000</td>\n",
       "      <td>36868.000000</td>\n",
       "      <td>49504.000000</td>\n",
       "      <td>3.355443e+07</td>\n",
       "      <td>40.000000</td>\n",
       "      <td>4.294903e+09</td>\n",
       "      <td>1.000000</td>\n",
       "    </tr>\n",
       "  </tbody>\n",
       "</table>\n",
       "</div>"
      ],
      "text/plain": [
       "       AddressOfEntryPoint  MajorLinkerVersion  MajorImageVersion  \\\n",
       "count         1.374440e+05       137444.000000      137444.000000   \n",
       "mean          1.722186e+05            8.620784          68.731876   \n",
       "std           3.438014e+06            4.095635        1185.709873   \n",
       "min           0.000000e+00            0.000000           0.000000   \n",
       "25%           1.272100e+04            8.000000           0.000000   \n",
       "50%           5.300800e+04            9.000000           0.000000   \n",
       "75%           6.157800e+04           10.000000           6.000000   \n",
       "max           1.074484e+09          255.000000       28619.000000   \n",
       "\n",
       "       MajorOperatingSystemVersion  DllCharacteristics  SizeOfStackReserve  \\\n",
       "count                137444.000000       137444.000000        1.374440e+05   \n",
       "mean                      5.098738        22301.043436        9.306841e+05   \n",
       "std                      99.437584        15444.753219        5.553175e+05   \n",
       "min                       0.000000            0.000000        0.000000e+00   \n",
       "25%                       4.000000          320.000000        1.048576e+06   \n",
       "50%                       5.000000        33088.000000        1.048576e+06   \n",
       "75%                       5.000000        33088.000000        1.048576e+06   \n",
       "max                   36868.000000        49504.000000        3.355443e+07   \n",
       "\n",
       "       NumberOfSections  ResourceSize     legitimate  \n",
       "count     137444.000000  1.374440e+05  137444.000000  \n",
       "mean           4.997119  2.474766e+05       0.297707  \n",
       "std            1.917237  2.129516e+07       0.457252  \n",
       "min            1.000000  0.000000e+00       0.000000  \n",
       "25%            4.000000  2.216000e+03       0.000000  \n",
       "50%            5.000000  9.640000e+03       0.000000  \n",
       "75%            5.000000  2.376250e+04       1.000000  \n",
       "max           40.000000  4.294903e+09       1.000000  "
      ]
     },
     "execution_count": 7,
     "metadata": {},
     "output_type": "execute_result"
    }
   ],
   "source": [
    "data.describe()"
   ]
  },
  {
   "cell_type": "code",
   "execution_count": 8,
   "id": "28958be5",
   "metadata": {},
   "outputs": [
    {
     "name": "stdout",
     "output_type": "stream",
     "text": [
      "<class 'pandas.core.frame.DataFrame'>\n",
      "RangeIndex: 137444 entries, 0 to 137443\n",
      "Data columns (total 9 columns):\n",
      " #   Column                       Non-Null Count   Dtype\n",
      "---  ------                       --------------   -----\n",
      " 0   AddressOfEntryPoint          137444 non-null  int64\n",
      " 1   MajorLinkerVersion           137444 non-null  int64\n",
      " 2   MajorImageVersion            137444 non-null  int64\n",
      " 3   MajorOperatingSystemVersion  137444 non-null  int64\n",
      " 4   DllCharacteristics           137444 non-null  int64\n",
      " 5   SizeOfStackReserve           137444 non-null  int64\n",
      " 6   NumberOfSections             137444 non-null  int64\n",
      " 7   ResourceSize                 137444 non-null  int64\n",
      " 8   legitimate                   137444 non-null  int64\n",
      "dtypes: int64(9)\n",
      "memory usage: 9.4 MB\n"
     ]
    }
   ],
   "source": [
    "data.info()"
   ]
  },
  {
   "cell_type": "code",
   "execution_count": 9,
   "id": "282c3aa0",
   "metadata": {},
   "outputs": [],
   "source": [
    "samples = data.iloc[:, [0, 4]].values\n",
    "targets = data.iloc[:, 8].values"
   ]
  },
  {
   "cell_type": "code",
   "execution_count": 12,
   "id": "1c65786e",
   "metadata": {},
   "outputs": [
    {
     "data": {
      "text/plain": [
       "array([[10407, 33088],\n",
       "       [ 5354, 33088],\n",
       "       [58807, 33088],\n",
       "       ...,\n",
       "       [59610, 33088],\n",
       "       [51216,     0],\n",
       "       [22731, 33088]])"
      ]
     },
     "execution_count": 12,
     "metadata": {},
     "output_type": "execute_result"
    }
   ],
   "source": [
    "samples"
   ]
  },
  {
   "cell_type": "code",
   "execution_count": 13,
   "id": "0662d151",
   "metadata": {},
   "outputs": [
    {
     "data": {
      "text/plain": [
       "array([1, 1, 1, ..., 0, 0, 0])"
      ]
     },
     "execution_count": 13,
     "metadata": {},
     "output_type": "execute_result"
    }
   ],
   "source": [
    "targets"
   ]
  },
  {
   "cell_type": "code",
   "execution_count": 14,
   "id": "8b66e22e",
   "metadata": {},
   "outputs": [],
   "source": [
    "x_train, x_test, y_train, y_test = train_test_split(samples, targets, train_size= 0.75, random_state=0)"
   ]
  },
  {
   "cell_type": "code",
   "execution_count": 15,
   "id": "5ebae01c",
   "metadata": {},
   "outputs": [
    {
     "data": {
      "text/plain": [
       "(34361, 103083)"
      ]
     },
     "execution_count": 15,
     "metadata": {},
     "output_type": "execute_result"
    }
   ],
   "source": [
    "len(x_test), len(y_train)"
   ]
  },
  {
   "cell_type": "code",
   "execution_count": 16,
   "id": "84e56845",
   "metadata": {},
   "outputs": [
    {
     "data": {
      "text/html": [
       "<style>#sk-container-id-1 {color: black;background-color: white;}#sk-container-id-1 pre{padding: 0;}#sk-container-id-1 div.sk-toggleable {background-color: white;}#sk-container-id-1 label.sk-toggleable__label {cursor: pointer;display: block;width: 100%;margin-bottom: 0;padding: 0.3em;box-sizing: border-box;text-align: center;}#sk-container-id-1 label.sk-toggleable__label-arrow:before {content: \"▸\";float: left;margin-right: 0.25em;color: #696969;}#sk-container-id-1 label.sk-toggleable__label-arrow:hover:before {color: black;}#sk-container-id-1 div.sk-estimator:hover label.sk-toggleable__label-arrow:before {color: black;}#sk-container-id-1 div.sk-toggleable__content {max-height: 0;max-width: 0;overflow: hidden;text-align: left;background-color: #f0f8ff;}#sk-container-id-1 div.sk-toggleable__content pre {margin: 0.2em;color: black;border-radius: 0.25em;background-color: #f0f8ff;}#sk-container-id-1 input.sk-toggleable__control:checked~div.sk-toggleable__content {max-height: 200px;max-width: 100%;overflow: auto;}#sk-container-id-1 input.sk-toggleable__control:checked~label.sk-toggleable__label-arrow:before {content: \"▾\";}#sk-container-id-1 div.sk-estimator input.sk-toggleable__control:checked~label.sk-toggleable__label {background-color: #d4ebff;}#sk-container-id-1 div.sk-label input.sk-toggleable__control:checked~label.sk-toggleable__label {background-color: #d4ebff;}#sk-container-id-1 input.sk-hidden--visually {border: 0;clip: rect(1px 1px 1px 1px);clip: rect(1px, 1px, 1px, 1px);height: 1px;margin: -1px;overflow: hidden;padding: 0;position: absolute;width: 1px;}#sk-container-id-1 div.sk-estimator {font-family: monospace;background-color: #f0f8ff;border: 1px dotted black;border-radius: 0.25em;box-sizing: border-box;margin-bottom: 0.5em;}#sk-container-id-1 div.sk-estimator:hover {background-color: #d4ebff;}#sk-container-id-1 div.sk-parallel-item::after {content: \"\";width: 100%;border-bottom: 1px solid gray;flex-grow: 1;}#sk-container-id-1 div.sk-label:hover label.sk-toggleable__label {background-color: #d4ebff;}#sk-container-id-1 div.sk-serial::before {content: \"\";position: absolute;border-left: 1px solid gray;box-sizing: border-box;top: 0;bottom: 0;left: 50%;z-index: 0;}#sk-container-id-1 div.sk-serial {display: flex;flex-direction: column;align-items: center;background-color: white;padding-right: 0.2em;padding-left: 0.2em;position: relative;}#sk-container-id-1 div.sk-item {position: relative;z-index: 1;}#sk-container-id-1 div.sk-parallel {display: flex;align-items: stretch;justify-content: center;background-color: white;position: relative;}#sk-container-id-1 div.sk-item::before, #sk-container-id-1 div.sk-parallel-item::before {content: \"\";position: absolute;border-left: 1px solid gray;box-sizing: border-box;top: 0;bottom: 0;left: 50%;z-index: -1;}#sk-container-id-1 div.sk-parallel-item {display: flex;flex-direction: column;z-index: 1;position: relative;background-color: white;}#sk-container-id-1 div.sk-parallel-item:first-child::after {align-self: flex-end;width: 50%;}#sk-container-id-1 div.sk-parallel-item:last-child::after {align-self: flex-start;width: 50%;}#sk-container-id-1 div.sk-parallel-item:only-child::after {width: 0;}#sk-container-id-1 div.sk-dashed-wrapped {border: 1px dashed gray;margin: 0 0.4em 0.5em 0.4em;box-sizing: border-box;padding-bottom: 0.4em;background-color: white;}#sk-container-id-1 div.sk-label label {font-family: monospace;font-weight: bold;display: inline-block;line-height: 1.2em;}#sk-container-id-1 div.sk-label-container {text-align: center;}#sk-container-id-1 div.sk-container {/* jupyter's `normalize.less` sets `[hidden] { display: none; }` but bootstrap.min.css set `[hidden] { display: none !important; }` so we also need the `!important` here to be able to override the default hidden behavior on the sphinx rendered scikit-learn.org. See: https://github.com/scikit-learn/scikit-learn/issues/21755 */display: inline-block !important;position: relative;}#sk-container-id-1 div.sk-text-repr-fallback {display: none;}</style><div id=\"sk-container-id-1\" class=\"sk-top-container\"><div class=\"sk-text-repr-fallback\"><pre>RandomForestClassifier()</pre><b>In a Jupyter environment, please rerun this cell to show the HTML representation or trust the notebook. <br />On GitHub, the HTML representation is unable to render, please try loading this page with nbviewer.org.</b></div><div class=\"sk-container\" hidden><div class=\"sk-item\"><div class=\"sk-estimator sk-toggleable\"><input class=\"sk-toggleable__control sk-hidden--visually\" id=\"sk-estimator-id-1\" type=\"checkbox\" checked><label for=\"sk-estimator-id-1\" class=\"sk-toggleable__label sk-toggleable__label-arrow\">RandomForestClassifier</label><div class=\"sk-toggleable__content\"><pre>RandomForestClassifier()</pre></div></div></div></div></div>"
      ],
      "text/plain": [
       "RandomForestClassifier()"
      ]
     },
     "execution_count": 16,
     "metadata": {},
     "output_type": "execute_result"
    }
   ],
   "source": [
    "forest = RandomForestClassifier()\n",
    "forest.fit(x_train, y_train)"
   ]
  },
  {
   "cell_type": "code",
   "execution_count": 17,
   "id": "d019407e",
   "metadata": {},
   "outputs": [],
   "source": [
    "y_train_pred = forest.predict(x_train)\n",
    "y_test_pred = forest.predict(x_test)"
   ]
  },
  {
   "cell_type": "code",
   "execution_count": 18,
   "id": "222f013f",
   "metadata": {},
   "outputs": [
    {
     "data": {
      "text/plain": [
       "0.9970994247354074"
      ]
     },
     "execution_count": 18,
     "metadata": {},
     "output_type": "execute_result"
    }
   ],
   "source": [
    "accuracy_score(y_train, y_train_pred)"
   ]
  },
  {
   "cell_type": "code",
   "execution_count": 19,
   "id": "90fecf6c",
   "metadata": {},
   "outputs": [
    {
     "data": {
      "text/plain": [
       "0.9633014173045022"
      ]
     },
     "execution_count": 19,
     "metadata": {},
     "output_type": "execute_result"
    }
   ],
   "source": [
    "accuracy_score(y_test, y_test_pred)"
   ]
  },
  {
   "cell_type": "code",
   "execution_count": null,
   "id": "e10d14eb",
   "metadata": {},
   "outputs": [],
   "source": []
  }
 ],
 "metadata": {
  "kernelspec": {
   "display_name": "Python 3 (ipykernel)",
   "language": "python",
   "name": "python3"
  },
  "language_info": {
   "codemirror_mode": {
    "name": "ipython",
    "version": 3
   },
   "file_extension": ".py",
   "mimetype": "text/x-python",
   "name": "python",
   "nbconvert_exporter": "python",
   "pygments_lexer": "ipython3",
   "version": "3.8.5"
  }
 },
 "nbformat": 4,
 "nbformat_minor": 5
}
